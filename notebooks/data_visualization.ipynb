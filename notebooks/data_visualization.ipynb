{
 "cells": [
  {
   "cell_type": "code",
   "id": "initial_id",
   "metadata": {
    "collapsed": true,
    "ExecuteTime": {
     "end_time": "2025-08-15T15:10:01.477378Z",
     "start_time": "2025-08-15T15:10:01.473378Z"
    }
   },
   "source": [
    "import os\n",
    "from pathlib import Path\n",
    "from typing import Tuple, List\n",
    "\n",
    "import cv2\n",
    "import numpy as np\n",
    "import matplotlib\n",
    "import matplotlib.pyplot as plt\n",
    "\n",
    "matplotlib.use('TkAgg')"
   ],
   "outputs": [],
   "execution_count": 1
  },
  {
   "metadata": {},
   "cell_type": "code",
   "outputs": [],
   "execution_count": null,
   "source": "project_root = Path(__file__).resolve().parents[1]",
   "id": "837628f548723f2"
  },
  {
   "metadata": {},
   "cell_type": "code",
   "outputs": [],
   "execution_count": null,
   "source": [
    "def basic_stats(input_video: cv2.VideoCapture, name: str = 'Undefined') -> Tuple:\n",
    "    frame_count = input_video.get(cv2.CAP_PROP_FRAME_COUNT)\n",
    "    fps = input_video.get(cv2.CAP_PROP_FPS)\n",
    "    width = int(input_video.get(cv2.CAP_PROP_FRAME_WIDTH))\n",
    "    height = int(input_video.get(cv2.CAP_PROP_FRAME_HEIGHT))\n",
    "    print(f'Name: {name}\\nFrame count: {frame_count}\\nFPS: {fps}\\nWidth: {width}\\nHeight: {height}')\n",
    "    return frame_count, fps, width, height"
   ],
   "id": "69005ab4d18ea214"
  },
  {
   "metadata": {},
   "cell_type": "code",
   "outputs": [],
   "execution_count": null,
   "source": [
    "def retrieve_frames(input_video: cv2.VideoCapture, name: str = 'Undefined') -> List:\n",
    "    frames = []\n",
    "    frame_count, sample_rate, _, _ = basic_stats(input_video, name)\n",
    "\n",
    "    for i in range(0, int(frame_count), int(sample_rate)):\n",
    "        input_video.set(cv2.CAP_PROP_POS_FRAMES, i)\n",
    "        status, frame = input_video.read()\n",
    "        if status:\n",
    "            frames.append(frame)\n",
    "    input_video.release()\n",
    "    return frames"
   ],
   "id": "e689ddcbe20eac20"
  },
  {
   "metadata": {},
   "cell_type": "code",
   "outputs": [],
   "execution_count": null,
   "source": [
    "def video_intensity_distribution(input_video: cv2.VideoCapture, name: str = 'Undefined') -> Tuple:\n",
    "    intensity_values = []\n",
    "    video_frames = retrieve_frames(input_video, name)\n",
    "\n",
    "    for frame in video_frames:\n",
    "        gray = cv2.cvtColor(frame, cv2.COLOR_BGR2GRAY)\n",
    "        gray_mean = round(float(np.mean(gray)), 1)\n",
    "        intensity_values.append(gray_mean)\n",
    "\n",
    "    mean_intensity = round(np.mean(intensity_values), 1)\n",
    "    std_intensity = round(np.std(intensity_values), 1)\n",
    "    print('Mean: {}'.format(mean_intensity))\n",
    "    print('Std: {}'.format(std_intensity))\n",
    "    return intensity_values, mean_intensity, std_intensity"
   ],
   "id": "e3536b38854793dc"
  }
 ],
 "metadata": {
  "kernelspec": {
   "display_name": "Python 3",
   "language": "python",
   "name": "python3"
  },
  "language_info": {
   "codemirror_mode": {
    "name": "ipython",
    "version": 2
   },
   "file_extension": ".py",
   "mimetype": "text/x-python",
   "name": "python",
   "nbconvert_exporter": "python",
   "pygments_lexer": "ipython2",
   "version": "2.7.6"
  }
 },
 "nbformat": 4,
 "nbformat_minor": 5
}
